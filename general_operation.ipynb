{
  "cells": [
    {
      "cell_type": "markdown",
      "metadata": {
        "colab_type": "text",
        "id": "view-in-github"
      },
      "source": [
        "<a href=\"https://colab.research.google.com/github/priyeshr7/pytorch/blob/main/Untitled0.ipynb\" target=\"_parent\"><img src=\"https://colab.research.google.com/assets/colab-badge.svg\" alt=\"Open In Colab\"/></a>"
      ]
    },
    {
      "cell_type": "code",
      "execution_count": 1,
      "metadata": {
        "id": "BUeeDuwrV9QS"
      },
      "outputs": [],
      "source": [
        "import torch"
      ]
    },
    {
      "cell_type": "code",
      "execution_count": 2,
      "metadata": {
        "colab": {
          "base_uri": "https://localhost:8080/"
        },
        "id": "EqFpCUR6WFTR",
        "outputId": "ffbd1d66-d773-445b-e4e3-31d6577bdee6"
      },
      "outputs": [
        {
          "name": "stdout",
          "output_type": "stream",
          "text": [
            "2.0.1\n"
          ]
        }
      ],
      "source": [
        "print(torch.__version__)"
      ]
    },
    {
      "cell_type": "code",
      "execution_count": 3,
      "metadata": {
        "colab": {
          "base_uri": "https://localhost:8080/"
        },
        "id": "x-KFHiqKWh_z",
        "outputId": "44acd608-1e4b-4840-eff6-1a0f205a83a9"
      },
      "outputs": [
        {
          "name": "stdout",
          "output_type": "stream",
          "text": [
            "GPU is not available. using CPU\n"
          ]
        }
      ],
      "source": [
        "if torch.cuda.is_available():\n",
        "  print(\"GPU is available!\")\n",
        "  print(f\"using GPU :{torch.cuda.get_device_name(0)}\")\n",
        "else:\n",
        "  print(\"GPU is not available. using CPU\")"
      ]
    },
    {
      "cell_type": "code",
      "execution_count": 5,
      "metadata": {
        "id": "wiq9IswxXiu4"
      },
      "outputs": [],
      "source": [
        "#using empty\n",
        "a= torch.empty(2,3)"
      ]
    },
    {
      "cell_type": "code",
      "execution_count": 6,
      "metadata": {
        "colab": {
          "base_uri": "https://localhost:8080/"
        },
        "id": "WQgHnlvonJ-X",
        "outputId": "01efa5c6-1114-4e5e-f7a5-f60c18071173"
      },
      "outputs": [
        {
          "data": {
            "text/plain": [
              "torch.Tensor"
            ]
          },
          "execution_count": 6,
          "metadata": {},
          "output_type": "execute_result"
        }
      ],
      "source": [
        "#check type\n",
        "type(a)"
      ]
    },
    {
      "cell_type": "code",
      "execution_count": 8,
      "metadata": {
        "colab": {
          "base_uri": "https://localhost:8080/"
        },
        "id": "4ODwT0WEnh-Y",
        "outputId": "21ee6cc0-d332-4793-fd6a-6205f98d387c"
      },
      "outputs": [
        {
          "data": {
            "text/plain": [
              "tensor([[0., 0., 0., 0.],\n",
              "        [0., 0., 0., 0.]])"
            ]
          },
          "execution_count": 8,
          "metadata": {},
          "output_type": "execute_result"
        }
      ],
      "source": [
        "torch.zeros(2,4)"
      ]
    },
    {
      "cell_type": "code",
      "execution_count": 13,
      "metadata": {
        "colab": {
          "base_uri": "https://localhost:8080/"
        },
        "id": "0VxoiysxnpDq",
        "outputId": "6d71b86e-9405-4bb4-ba78-d2a8213e3710"
      },
      "outputs": [
        {
          "data": {
            "text/plain": [
              "tensor([[1., 1., 1.],\n",
              "        [1., 1., 1.]])"
            ]
          },
          "execution_count": 13,
          "metadata": {},
          "output_type": "execute_result"
        }
      ],
      "source": [
        "torch.ones(2,3)"
      ]
    },
    {
      "cell_type": "code",
      "execution_count": 14,
      "metadata": {
        "colab": {
          "base_uri": "https://localhost:8080/"
        },
        "id": "YZxj8OUhnsLS",
        "outputId": "083eea48-2718-4810-b6cd-0dcc93ae9f9d"
      },
      "outputs": [
        {
          "data": {
            "text/plain": [
              "tensor([[0.0525, 0.7729, 0.7670],\n",
              "        [0.3102, 0.9464, 0.0410]])"
            ]
          },
          "execution_count": 14,
          "metadata": {},
          "output_type": "execute_result"
        }
      ],
      "source": [
        "# creates a matrix of random numberes , everytime it wil give a new matrix ,\n",
        "torch.rand(2,3)"
      ]
    },
    {
      "cell_type": "code",
      "execution_count": 16,
      "metadata": {
        "colab": {
          "base_uri": "https://localhost:8080/"
        },
        "id": "rVBZcWAAnvle",
        "outputId": "9d1876b0-897a-4acd-dce2-a47df1a08fe3"
      },
      "outputs": [
        {
          "data": {
            "text/plain": [
              "tensor([[0.1117, 0.8158, 0.2626],\n",
              "        [0.4839, 0.6765, 0.7539]])"
            ]
          },
          "execution_count": 16,
          "metadata": {},
          "output_type": "execute_result"
        }
      ],
      "source": [
        "# this will generate the same random number matrix every time ,so it is useful when it is need to reproduce .\n",
        "torch.manual_seed(100)\n",
        "torch.rand(2,3)"
      ]
    },
    {
      "cell_type": "code",
      "execution_count": 21,
      "metadata": {
        "colab": {
          "base_uri": "https://localhost:8080/"
        },
        "id": "Ag0W4GEcolBy",
        "outputId": "4b8db48a-3c55-4f3f-a13f-7f1f7ae8e0d8"
      },
      "outputs": [
        {
          "data": {
            "text/plain": [
              "tensor([[1, 2, 3, 4],\n",
              "        [3, 4, 5, 6]])"
            ]
          },
          "execution_count": 21,
          "metadata": {},
          "output_type": "execute_result"
        }
      ],
      "source": [
        "# using tensor method to create the matrix\n",
        "torch.tensor([[1,2,3,4],[3,4,5,6]])"
      ]
    },
    {
      "cell_type": "code",
      "execution_count": 23,
      "metadata": {
        "colab": {
          "base_uri": "https://localhost:8080/"
        },
        "id": "-d6Wd6vyo8PM",
        "outputId": "278433b9-b2a5-4131-c4d7-9ba5cd5fb783"
      },
      "outputs": [
        {
          "data": {
            "text/plain": [
              "tensor([ 2,  3,  4,  5,  6,  7,  8,  9, 10, 11, 12, 13, 14, 15, 16, 17, 18, 19])"
            ]
          },
          "execution_count": 23,
          "metadata": {},
          "output_type": "execute_result"
        }
      ],
      "source": [
        "torch.arange(2,20)"
      ]
    },
    {
      "cell_type": "code",
      "execution_count": 29,
      "metadata": {
        "colab": {
          "base_uri": "https://localhost:8080/"
        },
        "id": "Gd_YRCPmo_jO",
        "outputId": "377a4673-d0da-4603-9d8a-b5c2b2b6dbd0"
      },
      "outputs": [
        {
          "data": {
            "text/plain": [
              "tensor([ 0.0000,  1.3333,  2.6667,  4.0000,  5.3333,  6.6667,  8.0000,  9.3333,\n",
              "        10.6667, 12.0000])"
            ]
          },
          "execution_count": 29,
          "metadata": {},
          "output_type": "execute_result"
        }
      ],
      "source": [
        "# create evenly space between 0-12\n",
        "torch.linspace(0,12,10)"
      ]
    },
    {
      "cell_type": "code",
      "execution_count": 26,
      "metadata": {
        "colab": {
          "base_uri": "https://localhost:8080/"
        },
        "id": "iWSq_YlqpFCS",
        "outputId": "430c8b33-7731-4d54-f843-3fb41adcfa52"
      },
      "outputs": [
        {
          "data": {
            "text/plain": [
              "tensor([[1., 0., 0., 0., 0., 0.],\n",
              "        [0., 1., 0., 0., 0., 0.],\n",
              "        [0., 0., 1., 0., 0., 0.],\n",
              "        [0., 0., 0., 1., 0., 0.],\n",
              "        [0., 0., 0., 0., 1., 0.],\n",
              "        [0., 0., 0., 0., 0., 1.]])"
            ]
          },
          "execution_count": 26,
          "metadata": {},
          "output_type": "execute_result"
        }
      ],
      "source": [
        "torch.eye((6))"
      ]
    },
    {
      "cell_type": "code",
      "execution_count": 28,
      "metadata": {
        "colab": {
          "base_uri": "https://localhost:8080/"
        },
        "id": "pbeX8bt9p1KC",
        "outputId": "6202eb0a-5c63-4265-aab7-80ba81f9522f"
      },
      "outputs": [
        {
          "data": {
            "text/plain": [
              "tensor([[4, 4, 4, 4],\n",
              "        [4, 4, 4, 4]])"
            ]
          },
          "execution_count": 28,
          "metadata": {},
          "output_type": "execute_result"
        }
      ],
      "source": [
        "torch.full((2,4),4)"
      ]
    },
    {
      "cell_type": "code",
      "execution_count": 31,
      "metadata": {
        "colab": {
          "base_uri": "https://localhost:8080/"
        },
        "id": "r0820YEhp8lX",
        "outputId": "a4a3957f-8f31-499e-85d0-0648998bfdec"
      },
      "outputs": [
        {
          "data": {
            "text/plain": [
              "tensor([[1, 2, 3],\n",
              "        [3, 4, 5]])"
            ]
          },
          "execution_count": 31,
          "metadata": {},
          "output_type": "execute_result"
        }
      ],
      "source": [
        "#tensor shape\n",
        "r= torch.tensor([[1,2,3],[3,4,5]])\n",
        "r"
      ]
    },
    {
      "cell_type": "code",
      "execution_count": 32,
      "metadata": {
        "colab": {
          "base_uri": "https://localhost:8080/"
        },
        "id": "ICZ_9HFOqiHA",
        "outputId": "c8fe52a9-60fc-4def-d8a5-ab155a9ea64e"
      },
      "outputs": [
        {
          "data": {
            "text/plain": [
              "torch.Size([2, 3])"
            ]
          },
          "execution_count": 32,
          "metadata": {},
          "output_type": "execute_result"
        }
      ],
      "source": [
        "r.shape"
      ]
    },
    {
      "cell_type": "code",
      "execution_count": 33,
      "metadata": {
        "colab": {
          "base_uri": "https://localhost:8080/"
        },
        "id": "jKNGW7Wiqp8h",
        "outputId": "e580f939-6bcd-4b04-eacb-659bb6501893"
      },
      "outputs": [
        {
          "data": {
            "text/plain": [
              "tensor([[136925877546416,  94129502867920, 136922276530384],\n",
              "        [136922276537008, 136922276537632, 136922276529664]])"
            ]
          },
          "execution_count": 33,
          "metadata": {},
          "output_type": "execute_result"
        }
      ],
      "source": [
        "torch.empty_like(r)"
      ]
    },
    {
      "cell_type": "code",
      "execution_count": 35,
      "metadata": {
        "colab": {
          "base_uri": "https://localhost:8080/"
        },
        "id": "R7gPbyjBrPmn",
        "outputId": "f7430413-2d8d-427d-8c29-67bade717161"
      },
      "outputs": [
        {
          "data": {
            "text/plain": [
              "tensor([[1, 1, 1],\n",
              "        [1, 1, 1]])"
            ]
          },
          "execution_count": 35,
          "metadata": {},
          "output_type": "execute_result"
        }
      ],
      "source": [
        "torch.ones_like(r)"
      ]
    },
    {
      "cell_type": "code",
      "execution_count": 36,
      "metadata": {
        "colab": {
          "base_uri": "https://localhost:8080/"
        },
        "id": "ZcpBDLxyrV8S",
        "outputId": "faa4bdae-8d6b-4b53-b497-5d5024eac40a"
      },
      "outputs": [
        {
          "data": {
            "text/plain": [
              "tensor([[0, 0, 0],\n",
              "        [0, 0, 0]])"
            ]
          },
          "execution_count": 36,
          "metadata": {},
          "output_type": "execute_result"
        }
      ],
      "source": [
        "torch.zeros_like(r)"
      ]
    },
    {
      "cell_type": "code",
      "execution_count": 42,
      "metadata": {
        "colab": {
          "base_uri": "https://localhost:8080/",
          "height": 162
        },
        "id": "AJ7k0EzFrcr3",
        "outputId": "1ab6b44c-e23d-473a-e58b-8229e5216ac4"
      },
      "outputs": [
        {
          "ename": "RuntimeError",
          "evalue": "\"check_uniform_bounds\" not implemented for 'Long'",
          "output_type": "error",
          "traceback": [
            "\u001b[0;31m---------------------------------------------------------------------------\u001b[0m",
            "\u001b[0;31mRuntimeError\u001b[0m                              Traceback (most recent call last)",
            "\u001b[0;32m<ipython-input-42-25d290fada94>\u001b[0m in \u001b[0;36m<cell line: 2>\u001b[0;34m()\u001b[0m\n\u001b[1;32m      1\u001b[0m \u001b[0;31m# this doesnt work coz , rand generate numbers of float , and in 'r' we have integes\u001b[0m\u001b[0;34m\u001b[0m\u001b[0;34m\u001b[0m\u001b[0m\n\u001b[0;32m----> 2\u001b[0;31m \u001b[0mtorch\u001b[0m\u001b[0;34m.\u001b[0m\u001b[0mrand_like\u001b[0m\u001b[0;34m(\u001b[0m\u001b[0mr\u001b[0m\u001b[0;34m)\u001b[0m\u001b[0;34m\u001b[0m\u001b[0;34m\u001b[0m\u001b[0m\n\u001b[0m",
            "\u001b[0;31mRuntimeError\u001b[0m: \"check_uniform_bounds\" not implemented for 'Long'"
          ]
        }
      ],
      "source": [
        "# this doesnt work coz , rand generate numbers of float , and in 'r' we have integes\n",
        "torch.rand_like(r)"
      ]
    },
    {
      "cell_type": "code",
      "execution_count": 38,
      "metadata": {
        "colab": {
          "base_uri": "https://localhost:8080/"
        },
        "id": "SzuwBXuCrhuk",
        "outputId": "bb2a9696-d82b-4707-af9b-987f3f148d1f"
      },
      "outputs": [
        {
          "data": {
            "text/plain": [
              "torch.int64"
            ]
          },
          "execution_count": 38,
          "metadata": {},
          "output_type": "execute_result"
        }
      ],
      "source": [
        "#data types\n",
        "r.dtype"
      ]
    },
    {
      "cell_type": "code",
      "execution_count": 39,
      "metadata": {
        "colab": {
          "base_uri": "https://localhost:8080/"
        },
        "id": "sWxBOlCJr_Yd",
        "outputId": "4acd1e9e-ed3f-44fc-d33b-acb0cf58977e"
      },
      "outputs": [
        {
          "data": {
            "text/plain": [
              "tensor([[1, 2, 3],\n",
              "        [3, 4, 5]], dtype=torch.int32)"
            ]
          },
          "execution_count": 39,
          "metadata": {},
          "output_type": "execute_result"
        }
      ],
      "source": [
        "torch.tensor([[1,2,3],[3,4,5]],dtype=torch.int32)"
      ]
    },
    {
      "cell_type": "code",
      "execution_count": 40,
      "metadata": {
        "colab": {
          "base_uri": "https://localhost:8080/"
        },
        "id": "N_iSqudhsIBH",
        "outputId": "d0bc3cce-1828-440c-f2cb-1ac88cce3c61"
      },
      "outputs": [
        {
          "data": {
            "text/plain": [
              "tensor([ 8.,  9., 10.], dtype=torch.float64)"
            ]
          },
          "execution_count": 40,
          "metadata": {},
          "output_type": "execute_result"
        }
      ],
      "source": [
        "torch.tensor([8,9,10],dtype=torch.float64)"
      ]
    },
    {
      "cell_type": "code",
      "execution_count": 41,
      "metadata": {
        "colab": {
          "base_uri": "https://localhost:8080/"
        },
        "id": "ZG0nmeV5sS9S",
        "outputId": "8c24cf04-ad92-4b04-93e3-bb29db21024f"
      },
      "outputs": [
        {
          "data": {
            "text/plain": [
              "tensor([[1., 2., 3.],\n",
              "        [3., 4., 5.]])"
            ]
          },
          "execution_count": 41,
          "metadata": {},
          "output_type": "execute_result"
        }
      ],
      "source": [
        "# using to ()\n",
        "r.to(torch.float32)"
      ]
    },
    {
      "cell_type": "markdown",
      "metadata": {
        "id": "wHldFgqMuKSN"
      },
      "source": [
        "# Mathematical Operations\n",
        "\n",
        "## Scalar Operation"
      ]
    },
    {
      "cell_type": "code",
      "execution_count": 5,
      "metadata": {
        "colab": {
          "base_uri": "https://localhost:8080/"
        },
        "id": "HhqNrsufuYPc",
        "outputId": "44689a7d-e089-40f3-dbd6-8e028c4db13d"
      },
      "outputs": [
        {
          "data": {
            "text/plain": [
              "tensor([[0.3791, 0.8481, 0.9046],\n",
              "        [0.5991, 0.1038, 0.8375]])"
            ]
          },
          "execution_count": 5,
          "metadata": {},
          "output_type": "execute_result"
        }
      ],
      "source": [
        "t=torch.rand(2,3)\n",
        "t"
      ]
    },
    {
      "cell_type": "code",
      "execution_count": 45,
      "metadata": {
        "colab": {
          "base_uri": "https://localhost:8080/"
        },
        "id": "QNqQ224Du3QE",
        "outputId": "e12e976f-c733-49af-b418-d9e415d945c5"
      },
      "outputs": [
        {
          "data": {
            "text/plain": [
              "tensor([[3.4826, 3.9588, 3.1291],\n",
              "        [3.5870, 3.3136, 3.7080]])"
            ]
          },
          "execution_count": 45,
          "metadata": {},
          "output_type": "execute_result"
        }
      ],
      "source": [
        "t+3"
      ]
    },
    {
      "cell_type": "code",
      "execution_count": 46,
      "metadata": {
        "colab": {
          "base_uri": "https://localhost:8080/"
        },
        "id": "OQTP_nRlu9xO",
        "outputId": "d63c1dc5-699b-4e3a-c541-094c968d903c"
      },
      "outputs": [
        {
          "data": {
            "text/plain": [
              "tensor([[-2.5174, -2.0412, -2.8709],\n",
              "        [-2.4130, -2.6864, -2.2920]])"
            ]
          },
          "execution_count": 46,
          "metadata": {},
          "output_type": "execute_result"
        }
      ],
      "source": [
        "t-3"
      ]
    },
    {
      "cell_type": "code",
      "execution_count": 47,
      "metadata": {
        "colab": {
          "base_uri": "https://localhost:8080/"
        },
        "id": "OQDDGvnbu_rx",
        "outputId": "a0dc4285-00a6-474b-c4df-297c0fbcd3d0"
      },
      "outputs": [
        {
          "data": {
            "text/plain": [
              "tensor([[0.1609, 0.3196, 0.0430],\n",
              "        [0.1957, 0.1045, 0.2360]])"
            ]
          },
          "execution_count": 47,
          "metadata": {},
          "output_type": "execute_result"
        }
      ],
      "source": [
        "t/3"
      ]
    },
    {
      "cell_type": "code",
      "execution_count": 48,
      "metadata": {
        "colab": {
          "base_uri": "https://localhost:8080/"
        },
        "id": "e5lSZKtovC1E",
        "outputId": "99700aa4-893a-435a-baa2-d78da8e3c15e"
      },
      "outputs": [
        {
          "data": {
            "text/plain": [
              "tensor([[0.4826, 0.9588, 0.1291],\n",
              "        [0.5870, 0.3136, 0.7080]])"
            ]
          },
          "execution_count": 48,
          "metadata": {},
          "output_type": "execute_result"
        }
      ],
      "source": [
        "#Mod\n",
        "t%2"
      ]
    },
    {
      "cell_type": "code",
      "execution_count": 49,
      "metadata": {
        "colab": {
          "base_uri": "https://localhost:8080/"
        },
        "id": "vMUw7XrtvOQV",
        "outputId": "c4dd051e-6156-4cff-c99b-acd048a110d9"
      },
      "outputs": [
        {
          "data": {
            "text/plain": [
              "tensor([[16., 31.,  4.],\n",
              "        [19., 10., 23.]])"
            ]
          },
          "execution_count": 49,
          "metadata": {},
          "output_type": "execute_result"
        }
      ],
      "source": [
        "#integer division\n",
        "(t*100)//3"
      ]
    },
    {
      "cell_type": "code",
      "execution_count": 6,
      "metadata": {
        "colab": {
          "base_uri": "https://localhost:8080/"
        },
        "id": "R4EKvdmdvvOh",
        "outputId": "a76daf4e-057d-4f78-fca7-77de0172d180"
      },
      "outputs": [
        {
          "data": {
            "text/plain": [
              "tensor([[0.1437, 0.7192, 0.8183],\n",
              "        [0.3589, 0.0108, 0.7015]])"
            ]
          },
          "execution_count": 6,
          "metadata": {},
          "output_type": "execute_result"
        }
      ],
      "source": [
        "t**2"
      ]
    },
    {
      "cell_type": "code",
      "execution_count": 9,
      "metadata": {
        "colab": {
          "base_uri": "https://localhost:8080/"
        },
        "id": "DI9Xvg4gGH4i",
        "outputId": "65bdc725-6239-4157-e595-5a702dfcc79a"
      },
      "outputs": [
        {
          "name": "stdout",
          "output_type": "stream",
          "text": [
            "tensor([[0.4613, 0.9928, 0.9999],\n",
            "        [0.9710, 0.5870, 0.4635]])\n",
            "tensor([[0.1291, 0.6078, 0.9538],\n",
            "        [0.2572, 0.4545, 0.5164]])\n"
          ]
        }
      ],
      "source": [
        "a=torch.rand(2,3)\n",
        "b=torch.rand(2,3)\n",
        "print(a)\n",
        "print(b)"
      ]
    },
    {
      "cell_type": "code",
      "execution_count": 10,
      "metadata": {
        "colab": {
          "base_uri": "https://localhost:8080/"
        },
        "id": "WVJDEerIGwnj",
        "outputId": "9224f986-3e6f-49df-85d0-8431c8d9a444"
      },
      "outputs": [
        {
          "data": {
            "text/plain": [
              "tensor([[0.5905, 1.6006, 1.9536],\n",
              "        [1.2282, 1.0415, 0.9798]])"
            ]
          },
          "execution_count": 10,
          "metadata": {},
          "output_type": "execute_result"
        }
      ],
      "source": [
        "a+b"
      ]
    },
    {
      "cell_type": "code",
      "execution_count": 11,
      "metadata": {
        "colab": {
          "base_uri": "https://localhost:8080/"
        },
        "id": "afbGLOxZG83Q",
        "outputId": "a865b544-4a09-4aad-e886-96b2051301b8"
      },
      "outputs": [
        {
          "data": {
            "text/plain": [
              "tensor([[ 0.3322,  0.3849,  0.0461],\n",
              "        [ 0.7138,  0.1325, -0.0529]])"
            ]
          },
          "execution_count": 11,
          "metadata": {},
          "output_type": "execute_result"
        }
      ],
      "source": [
        "a-b"
      ]
    },
    {
      "cell_type": "code",
      "execution_count": 12,
      "metadata": {
        "colab": {
          "base_uri": "https://localhost:8080/"
        },
        "id": "eKpTZ8tGG-05",
        "outputId": "d62fe919-442e-4209-8756-5516f3797c54"
      },
      "outputs": [
        {
          "data": {
            "text/plain": [
              "tensor([[0.0596, 0.6034, 0.9537],\n",
              "        [0.2497, 0.2668, 0.2393]])"
            ]
          },
          "execution_count": 12,
          "metadata": {},
          "output_type": "execute_result"
        }
      ],
      "source": [
        "a*b"
      ]
    },
    {
      "cell_type": "code",
      "execution_count": 13,
      "metadata": {
        "colab": {
          "base_uri": "https://localhost:8080/"
        },
        "id": "IXCzIFhdHAcn",
        "outputId": "9925a266-bbfc-4272-f9a5-a1e4edd9ca67"
      },
      "outputs": [
        {
          "data": {
            "text/plain": [
              "tensor([[3.5728, 1.6333, 1.0483],\n",
              "        [3.7757, 1.2916, 0.8976]])"
            ]
          },
          "execution_count": 13,
          "metadata": {},
          "output_type": "execute_result"
        }
      ],
      "source": [
        "a/b"
      ]
    },
    {
      "cell_type": "code",
      "execution_count": 14,
      "metadata": {
        "colab": {
          "base_uri": "https://localhost:8080/"
        },
        "id": "lg6NSZoNHCPt",
        "outputId": "69f89e21-74b2-442a-953a-d20b4b6a4746"
      },
      "outputs": [
        {
          "data": {
            "text/plain": [
              "tensor([[0.9049, 0.9956, 0.9999],\n",
              "        [0.9925, 0.7850, 0.6723]])"
            ]
          },
          "execution_count": 14,
          "metadata": {},
          "output_type": "execute_result"
        }
      ],
      "source": [
        "a**b"
      ]
    },
    {
      "cell_type": "code",
      "execution_count": 15,
      "metadata": {
        "colab": {
          "base_uri": "https://localhost:8080/"
        },
        "id": "4YLnn16NHEMz",
        "outputId": "9343f25b-7c81-404f-c945-1d8da70c7df8"
      },
      "outputs": [
        {
          "data": {
            "text/plain": [
              "tensor([[0.0740, 0.3849, 0.0461],\n",
              "        [0.1995, 0.1325, 0.4635]])"
            ]
          },
          "execution_count": 15,
          "metadata": {},
          "output_type": "execute_result"
        }
      ],
      "source": [
        "a%b"
      ]
    },
    {
      "cell_type": "markdown",
      "metadata": {
        "id": "JNbcTZTlIRLf"
      },
      "source": [
        "# Element Wise Operator\n",
        "\n"
      ]
    },
    {
      "cell_type": "code",
      "execution_count": 16,
      "metadata": {
        "colab": {
          "base_uri": "https://localhost:8080/"
        },
        "id": "V5OImVC8HGPb",
        "outputId": "4ed6a21d-797d-465d-aa7b-94d75b75b93c"
      },
      "outputs": [
        {
          "name": "stdout",
          "output_type": "stream",
          "text": [
            "tensor([ 1, -2,  5, -4])\n",
            "tensor([1.2000, 3.4000, 5.6000, 7.8000])\n"
          ]
        }
      ],
      "source": [
        "c=torch.tensor([1,-2,5,-4])\n",
        "d=torch.tensor([1.2,3.4,5.6,7.8])\n",
        "print(c)\n",
        "print(d)"
      ]
    },
    {
      "cell_type": "code",
      "execution_count": 17,
      "metadata": {
        "colab": {
          "base_uri": "https://localhost:8080/"
        },
        "id": "UK2QB-V6HXqs",
        "outputId": "023dca45-9409-411f-e77d-4df1bfb7cc33"
      },
      "outputs": [
        {
          "data": {
            "text/plain": [
              "tensor([1, 2, 5, 4])"
            ]
          },
          "execution_count": 17,
          "metadata": {},
          "output_type": "execute_result"
        }
      ],
      "source": [
        "torch.abs(c)"
      ]
    },
    {
      "cell_type": "code",
      "execution_count": 18,
      "metadata": {
        "colab": {
          "base_uri": "https://localhost:8080/"
        },
        "id": "v320rfZwHZ5i",
        "outputId": "1126e1ac-e1a1-4287-fbda-538c25377a47"
      },
      "outputs": [
        {
          "data": {
            "text/plain": [
              "tensor([-1,  2, -5,  4])"
            ]
          },
          "execution_count": 18,
          "metadata": {},
          "output_type": "execute_result"
        }
      ],
      "source": [
        "torch.neg(c)"
      ]
    },
    {
      "cell_type": "code",
      "execution_count": 19,
      "metadata": {
        "colab": {
          "base_uri": "https://localhost:8080/"
        },
        "id": "EiSvD5uiHcGf",
        "outputId": "dc2a0e70-8330-4740-a8a7-f23087ced40a"
      },
      "outputs": [
        {
          "data": {
            "text/plain": [
              "tensor([1., 3., 6., 8.])"
            ]
          },
          "execution_count": 19,
          "metadata": {},
          "output_type": "execute_result"
        }
      ],
      "source": [
        "torch.round(d)"
      ]
    },
    {
      "cell_type": "code",
      "execution_count": 20,
      "metadata": {
        "colab": {
          "base_uri": "https://localhost:8080/"
        },
        "id": "47WylZheHd_f",
        "outputId": "eb4c5510-a2a1-4143-d7dc-d67a062d5077"
      },
      "outputs": [
        {
          "data": {
            "text/plain": [
              "tensor([2., 4., 6., 8.])"
            ]
          },
          "execution_count": 20,
          "metadata": {},
          "output_type": "execute_result"
        }
      ],
      "source": [
        "torch.ceil(d)"
      ]
    },
    {
      "cell_type": "code",
      "execution_count": 21,
      "metadata": {
        "colab": {
          "base_uri": "https://localhost:8080/"
        },
        "id": "j8Y24qUQHgdO",
        "outputId": "d43445bf-c424-4c73-bbeb-e283a9a1d6d4"
      },
      "outputs": [
        {
          "data": {
            "text/plain": [
              "tensor([1., 3., 5., 7.])"
            ]
          },
          "execution_count": 21,
          "metadata": {},
          "output_type": "execute_result"
        }
      ],
      "source": [
        "torch.floor(d)"
      ]
    },
    {
      "cell_type": "code",
      "execution_count": 22,
      "metadata": {
        "colab": {
          "base_uri": "https://localhost:8080/"
        },
        "id": "-4GntNXmH4Id",
        "outputId": "80ea2750-1699-4df4-d7f0-36de375c837c"
      },
      "outputs": [
        {
          "data": {
            "text/plain": [
              "tensor([1.2000, 3.4000, 5.6000, 7.8000])"
            ]
          },
          "execution_count": 22,
          "metadata": {},
          "output_type": "execute_result"
        }
      ],
      "source": [
        "torch.clamp(d,min=-1,max=8)"
      ]
    },
    {
      "cell_type": "markdown",
      "metadata": {
        "id": "w8cLjYaUIdRu"
      },
      "source": [
        "\n",
        "# Reducing Operation"
      ]
    },
    {
      "cell_type": "code",
      "execution_count": 23,
      "metadata": {
        "colab": {
          "base_uri": "https://localhost:8080/"
        },
        "id": "52K4CCHKH-F-",
        "outputId": "11787fe6-4ef3-433a-ebf1-09f7b39da8bd"
      },
      "outputs": [
        {
          "data": {
            "text/plain": [
              "tensor([[8., 7., 0., 6.],\n",
              "        [8., 1., 8., 8.]])"
            ]
          },
          "execution_count": 23,
          "metadata": {},
          "output_type": "execute_result"
        }
      ],
      "source": [
        "x =torch.randint(size=(2,4),low=0,high=10,dtype=torch.float32)\n",
        "x"
      ]
    },
    {
      "cell_type": "code",
      "execution_count": 24,
      "metadata": {
        "colab": {
          "base_uri": "https://localhost:8080/"
        },
        "id": "oCc7gHbmIyYk",
        "outputId": "5e657b36-378b-490b-8619-fcfc115a5e21"
      },
      "outputs": [
        {
          "data": {
            "text/plain": [
              "tensor(46.)"
            ]
          },
          "execution_count": 24,
          "metadata": {},
          "output_type": "execute_result"
        }
      ],
      "source": [
        "torch.sum(x)"
      ]
    },
    {
      "cell_type": "code",
      "execution_count": 25,
      "metadata": {
        "colab": {
          "base_uri": "https://localhost:8080/"
        },
        "id": "-0WXwc9GI2NN",
        "outputId": "2bc28171-3eef-4729-8424-aecc4a8d19c3"
      },
      "outputs": [
        {
          "data": {
            "text/plain": [
              "tensor([16.,  8.,  8., 14.])"
            ]
          },
          "execution_count": 25,
          "metadata": {},
          "output_type": "execute_result"
        }
      ],
      "source": [
        "# sum along columns\n",
        "torch.sum(x,dim=0)"
      ]
    },
    {
      "cell_type": "code",
      "execution_count": 26,
      "metadata": {
        "colab": {
          "base_uri": "https://localhost:8080/"
        },
        "id": "Wy6WAuuFI-Zj",
        "outputId": "30947dda-67a1-4113-d648-cf63988c3a8f"
      },
      "outputs": [
        {
          "data": {
            "text/plain": [
              "tensor([21., 25.])"
            ]
          },
          "execution_count": 26,
          "metadata": {},
          "output_type": "execute_result"
        }
      ],
      "source": [
        "#sum along rows\n",
        "torch.sum(x,dim=1)"
      ]
    },
    {
      "cell_type": "code",
      "execution_count": 27,
      "metadata": {
        "colab": {
          "base_uri": "https://localhost:8080/"
        },
        "id": "DuS-e7fhJJg2",
        "outputId": "57ad710b-3682-4866-f462-4d9ea50ca8a8"
      },
      "outputs": [
        {
          "data": {
            "text/plain": [
              "tensor(5.7500)"
            ]
          },
          "execution_count": 27,
          "metadata": {},
          "output_type": "execute_result"
        }
      ],
      "source": [
        "# mean | to convert in mean the number should be in float | and to change it , we use change.to\n",
        "torch.mean(x.to(torch.float32))"
      ]
    },
    {
      "cell_type": "code",
      "execution_count": 39,
      "metadata": {
        "colab": {
          "base_uri": "https://localhost:8080/"
        },
        "id": "-TY-ZgcYJqH-",
        "outputId": "3e4222a9-fd6c-4b1f-ff76-8266cae47c5d"
      },
      "outputs": [
        {
          "data": {
            "text/plain": [
              "tensor([5.0000, 6.0000, 5.0000, 5.5000])"
            ]
          },
          "execution_count": 39,
          "metadata": {},
          "output_type": "execute_result"
        }
      ],
      "source": [
        "torch.mean(x,dim=0)"
      ]
    },
    {
      "cell_type": "code",
      "execution_count": 40,
      "metadata": {
        "colab": {
          "base_uri": "https://localhost:8080/"
        },
        "id": "KqA1nT6fJPTq",
        "outputId": "8431129d-e40a-4519-b8b6-85cccde201d5"
      },
      "outputs": [
        {
          "data": {
            "text/plain": [
              "tensor(5.)"
            ]
          },
          "execution_count": 40,
          "metadata": {},
          "output_type": "execute_result"
        }
      ],
      "source": [
        "#median\n",
        "torch.median(x)"
      ]
    },
    {
      "cell_type": "code",
      "execution_count": 45,
      "metadata": {
        "colab": {
          "base_uri": "https://localhost:8080/"
        },
        "id": "EPrrFAfwKHpq",
        "outputId": "79a3a819-202d-4718-b657-3db54471b320"
      },
      "outputs": [
        {
          "data": {
            "text/plain": [
              "tensor(3.)"
            ]
          },
          "execution_count": 45,
          "metadata": {},
          "output_type": "execute_result"
        }
      ],
      "source": [
        "torch.min(x)"
      ]
    },
    {
      "cell_type": "code",
      "execution_count": 46,
      "metadata": {
        "colab": {
          "base_uri": "https://localhost:8080/"
        },
        "id": "SMT5PyjFKXSJ",
        "outputId": "a76c35f8-1689-4067-808e-43e21b0c0951"
      },
      "outputs": [
        {
          "data": {
            "text/plain": [
              "tensor(7.)"
            ]
          },
          "execution_count": 46,
          "metadata": {},
          "output_type": "execute_result"
        }
      ],
      "source": [
        "torch.max(x)"
      ]
    },
    {
      "cell_type": "code",
      "execution_count": 49,
      "metadata": {
        "colab": {
          "base_uri": "https://localhost:8080/"
        },
        "id": "kk5vyL8xKaFE",
        "outputId": "f5aebd37-70c2-48c7-a684-c12f10f3cdcc"
      },
      "outputs": [
        {
          "data": {
            "text/plain": [
              "tensor(432180.)"
            ]
          },
          "execution_count": 49,
          "metadata": {},
          "output_type": "execute_result"
        }
      ],
      "source": [
        "torch.prod(x)"
      ]
    },
    {
      "cell_type": "code",
      "execution_count": 50,
      "metadata": {
        "colab": {
          "base_uri": "https://localhost:8080/"
        },
        "id": "-HuRj-iUKjO3",
        "outputId": "0433d0a7-5174-40fe-bd85-2dfc92526768"
      },
      "outputs": [
        {
          "data": {
            "text/plain": [
              "tensor(1.8468)"
            ]
          },
          "execution_count": 50,
          "metadata": {},
          "output_type": "execute_result"
        }
      ],
      "source": [
        "torch.std(x)"
      ]
    },
    {
      "cell_type": "code",
      "execution_count": 51,
      "metadata": {
        "colab": {
          "base_uri": "https://localhost:8080/"
        },
        "id": "JVao2J86KsrE",
        "outputId": "7c68127f-7a51-40a7-da1a-95be9f7059f6"
      },
      "outputs": [
        {
          "data": {
            "text/plain": [
              "tensor(3.4107)"
            ]
          },
          "execution_count": 51,
          "metadata": {},
          "output_type": "execute_result"
        }
      ],
      "source": [
        "torch.var(x)"
      ]
    },
    {
      "cell_type": "code",
      "execution_count": 52,
      "metadata": {
        "colab": {
          "base_uri": "https://localhost:8080/"
        },
        "id": "hjP8itXcKufw",
        "outputId": "bee3818c-af7d-4d4f-b7e1-fd9bf121eee7"
      },
      "outputs": [
        {
          "data": {
            "text/plain": [
              "tensor(0)"
            ]
          },
          "execution_count": 52,
          "metadata": {},
          "output_type": "execute_result"
        }
      ],
      "source": [
        "# it give the index of the min element\n",
        "torch.argmin(x)"
      ]
    },
    {
      "cell_type": "code",
      "execution_count": 53,
      "metadata": {
        "colab": {
          "base_uri": "https://localhost:8080/"
        },
        "id": "ptZ5Lmq6K3ki",
        "outputId": "34c950fd-7e52-4458-e498-a4ec6ea52ad0"
      },
      "outputs": [
        {
          "data": {
            "text/plain": [
              "tensor(4)"
            ]
          },
          "execution_count": 53,
          "metadata": {},
          "output_type": "execute_result"
        }
      ],
      "source": [
        "torch.argmax(x)"
      ]
    },
    {
      "cell_type": "markdown",
      "metadata": {
        "id": "2SHo-wHqLFlX"
      },
      "source": [
        "# Matrix Operataion"
      ]
    },
    {
      "cell_type": "code",
      "execution_count": 50,
      "metadata": {
        "colab": {
          "base_uri": "https://localhost:8080/"
        },
        "id": "KwUKYkBdK5hd",
        "outputId": "27810103-4c62-4624-a9bf-cf1a7b8c7e3d"
      },
      "outputs": [
        {
          "name": "stdout",
          "output_type": "stream",
          "text": [
            "tensor([[9., 7., 3.],\n",
            "        [3., 6., 8.]])\n",
            "tensor([[1., 7.],\n",
            "        [1., 8.],\n",
            "        [6., 5.]])\n"
          ]
        }
      ],
      "source": [
        "g=torch.randint(size=(2,3),low=0,high=10 , dtype=torch.float32)\n",
        "h=torch.randint(size=(3,2),low=0,high=10,dtype=torch.float32)\n",
        "print(g)\n",
        "print(h)\n"
      ]
    },
    {
      "cell_type": "code",
      "execution_count": 51,
      "metadata": {
        "colab": {
          "base_uri": "https://localhost:8080/"
        },
        "id": "77HXk3eDLel2",
        "outputId": "7e075b0f-7ef5-4dfb-8d01-a971f90a81d4"
      },
      "outputs": [
        {
          "data": {
            "text/plain": [
              "tensor([[ 34., 134.],\n",
              "        [ 57., 109.]])"
            ]
          },
          "execution_count": 51,
          "metadata": {},
          "output_type": "execute_result"
        }
      ],
      "source": [
        "torch.matmul(g,h)"
      ]
    },
    {
      "cell_type": "code",
      "execution_count": null,
      "metadata": {
        "colab": {
          "base_uri": "https://localhost:8080/"
        },
        "id": "sXk5pD2_LkXU",
        "outputId": "5f7641ba-8bd1-490d-d35d-912a46dc4f79"
      },
      "outputs": [
        {
          "data": {
            "text/plain": [
              "tensor(11)"
            ]
          },
          "execution_count": 30,
          "metadata": {},
          "output_type": "execute_result"
        }
      ],
      "source": [
        "v1=torch.tensor([1,2])\n",
        "v2=torch.tensor([3,4])\n",
        "# dot product \n",
        "torch.dot(v1,v2)"
      ]
    },
    {
      "cell_type": "code",
      "execution_count": 52,
      "metadata": {
        "colab": {
          "base_uri": "https://localhost:8080/"
        },
        "id": "NInH945hLwGW",
        "outputId": "f7c3cb21-c351-4b78-e8e9-a8748bdae96b"
      },
      "outputs": [
        {
          "data": {
            "text/plain": [
              "tensor([[9., 3.],\n",
              "        [7., 6.],\n",
              "        [3., 8.]])"
            ]
          },
          "execution_count": 52,
          "metadata": {},
          "output_type": "execute_result"
        }
      ],
      "source": [
        "k=torch.transpose(g,0,1)\n",
        "k"
      ]
    },
    {
      "cell_type": "code",
      "execution_count": 57,
      "metadata": {},
      "outputs": [
        {
          "name": "stdout",
          "output_type": "stream",
          "text": [
            "tensor([[1., 3., 2.],\n",
            "        [6., 0., 0.],\n",
            "        [0., 6., 3.]])\n"
          ]
        },
        {
          "data": {
            "text/plain": [
              "tensor(18.0000)"
            ]
          },
          "execution_count": 57,
          "metadata": {},
          "output_type": "execute_result"
        }
      ],
      "source": [
        "k=torch.randint(size=(3,3),low=0,high=10,dtype=torch.float32)\n",
        "print(k)\n",
        "torch.det(k)"
      ]
    },
    {
      "cell_type": "code",
      "execution_count": 58,
      "metadata": {},
      "outputs": [
        {
          "data": {
            "text/plain": [
              "tensor([[ 0.0000,  0.1667,  0.0000],\n",
              "        [-1.0000,  0.1667,  0.6667],\n",
              "        [ 2.0000, -0.3333, -1.0000]])"
            ]
          },
          "execution_count": 58,
          "metadata": {},
          "output_type": "execute_result"
        }
      ],
      "source": [
        "torch.inverse(k)"
      ]
    },
    {
      "cell_type": "markdown",
      "metadata": {},
      "source": [
        " # comparision Operator "
      ]
    },
    {
      "cell_type": "code",
      "execution_count": 86,
      "metadata": {
        "colab": {
          "base_uri": "https://localhost:8080/"
        },
        "id": "B5X0EnIMOwbk",
        "outputId": "351546af-4b00-446f-f6d1-f969d7127374"
      },
      "outputs": [
        {
          "name": "stdout",
          "output_type": "stream",
          "text": [
            "tensor([[3., 8., 4.],\n",
            "        [1., 3., 7.],\n",
            "        [5., 7., 4.]])\n",
            "tensor([[7., 4., 1.],\n",
            "        [4., 1., 5.],\n",
            "        [1., 5., 4.]])\n"
          ]
        },
        {
          "data": {
            "text/plain": [
              "tensor([[False,  True,  True],\n",
              "        [False,  True,  True],\n",
              "        [ True,  True, False]])"
            ]
          },
          "execution_count": 86,
          "metadata": {},
          "output_type": "execute_result"
        }
      ],
      "source": [
        "p=torch.randint(size=(3,3),low=0,high=10,dtype=torch.float32)\n",
        "q=torch.randint(size=(3,3),low=0,high=10,dtype=torch.float32)\n",
        "print(p)\n",
        "print(q)\n",
        "# greater than \n",
        "p>q"
      ]
    },
    {
      "cell_type": "code",
      "execution_count": 63,
      "metadata": {
        "colab": {
          "base_uri": "https://localhost:8080/"
        },
        "id": "2cK776c1O2e6",
        "outputId": "6ef7d42a-d173-43a0-a26e-acde3c640367"
      },
      "outputs": [
        {
          "data": {
            "text/plain": [
              "tensor([[ True, False, False],\n",
              "        [False,  True,  True],\n",
              "        [ True, False,  True]])"
            ]
          },
          "execution_count": 63,
          "metadata": {},
          "output_type": "execute_result"
        }
      ],
      "source": [
        "# lesser than \n",
        "p<q"
      ]
    },
    {
      "cell_type": "code",
      "execution_count": 66,
      "metadata": {
        "id": "2-OjocDGPIM0"
      },
      "outputs": [
        {
          "data": {
            "text/plain": [
              "tensor([[True, True, True],\n",
              "        [True, True, True],\n",
              "        [True, True, True]])"
            ]
          },
          "execution_count": 66,
          "metadata": {},
          "output_type": "execute_result"
        }
      ],
      "source": [
        "#equals to \n",
        "p==q"
      ]
    },
    {
      "cell_type": "code",
      "execution_count": 40,
      "metadata": {
        "colab": {
          "base_uri": "https://localhost:8080/"
        },
        "id": "mHW70QyFPKjU",
        "outputId": "94fa7134-4caa-4f23-c172-7000bdfe0ada"
      },
      "outputs": [
        {
          "data": {
            "text/plain": [
              "tensor([[True, True],\n",
              "        [True, True],\n",
              "        [True, True]])"
            ]
          },
          "execution_count": 40,
          "metadata": {},
          "output_type": "execute_result"
        }
      ],
      "source": [
        "h<=k"
      ]
    },
    {
      "cell_type": "markdown",
      "metadata": {},
      "source": [
        "# Special functions"
      ]
    },
    {
      "cell_type": "code",
      "execution_count": 78,
      "metadata": {},
      "outputs": [
        {
          "data": {
            "text/plain": [
              "tensor([[2., 3., 7.],\n",
              "        [9., 2., 9.]])"
            ]
          },
          "execution_count": 78,
          "metadata": {},
          "output_type": "execute_result"
        }
      ],
      "source": [
        "t = torch.randint(size=(2,3),low=0,high=10,dtype=torch.float32)\n",
        "t"
      ]
    },
    {
      "cell_type": "code",
      "execution_count": 70,
      "metadata": {
        "id": "LqHf7LgdPNrd"
      },
      "outputs": [
        {
          "data": {
            "text/plain": [
              "tensor([[1.7918, 1.6094, 1.0986],\n",
              "        [1.7918, 1.7918, 0.0000]])"
            ]
          },
          "execution_count": 70,
          "metadata": {},
          "output_type": "execute_result"
        }
      ],
      "source": [
        "torch.log(t)"
      ]
    },
    {
      "cell_type": "code",
      "execution_count": 71,
      "metadata": {},
      "outputs": [
        {
          "data": {
            "text/plain": [
              "tensor([[403.4288, 148.4132,  20.0855],\n",
              "        [403.4288, 403.4288,   2.7183]])"
            ]
          },
          "execution_count": 71,
          "metadata": {},
          "output_type": "execute_result"
        }
      ],
      "source": [
        "torch.exp(t)"
      ]
    },
    {
      "cell_type": "code",
      "execution_count": 72,
      "metadata": {},
      "outputs": [
        {
          "data": {
            "text/plain": [
              "tensor([[2.4495, 2.2361, 1.7321],\n",
              "        [2.4495, 2.4495, 1.0000]])"
            ]
          },
          "execution_count": 72,
          "metadata": {},
          "output_type": "execute_result"
        }
      ],
      "source": [
        "torch.sqrt(t)"
      ]
    },
    {
      "cell_type": "code",
      "execution_count": 73,
      "metadata": {},
      "outputs": [
        {
          "data": {
            "text/plain": [
              "tensor([[0.9975, 0.9933, 0.9526],\n",
              "        [0.9975, 0.9975, 0.7311]])"
            ]
          },
          "execution_count": 73,
          "metadata": {},
          "output_type": "execute_result"
        }
      ],
      "source": [
        "torch.sigmoid(t)"
      ]
    },
    {
      "cell_type": "code",
      "execution_count": 79,
      "metadata": {},
      "outputs": [
        {
          "data": {
            "text/plain": [
              "tensor([[9.1105e-04, 7.3106e-01, 1.1920e-01],\n",
              "        [9.9909e-01, 2.6894e-01, 8.8080e-01]])"
            ]
          },
          "execution_count": 79,
          "metadata": {},
          "output_type": "execute_result"
        }
      ],
      "source": [
        "torch.softmax(t,dim=0)\n"
      ]
    },
    {
      "cell_type": "code",
      "execution_count": 80,
      "metadata": {},
      "outputs": [
        {
          "data": {
            "text/plain": [
              "tensor([[2., 3., 7.],\n",
              "        [9., 2., 9.]])"
            ]
          },
          "execution_count": 80,
          "metadata": {},
          "output_type": "execute_result"
        }
      ],
      "source": [
        "torch.relu(t)"
      ]
    },
    {
      "cell_type": "code",
      "execution_count": 81,
      "metadata": {},
      "outputs": [
        {
          "data": {
            "text/plain": [
              "tensor([[14.,  0.,  2.],\n",
              "        [12.,  8., 14.],\n",
              "        [12.,  0., 14.]])"
            ]
          },
          "execution_count": 81,
          "metadata": {},
          "output_type": "execute_result"
        }
      ],
      "source": [
        "p.add_(q)"
      ]
    },
    {
      "cell_type": "code",
      "execution_count": 83,
      "metadata": {},
      "outputs": [
        {
          "data": {
            "text/plain": [
              "tensor([[14.,  0.,  2.],\n",
              "        [12.,  8., 14.],\n",
              "        [12.,  0., 14.]])"
            ]
          },
          "execution_count": 83,
          "metadata": {},
          "output_type": "execute_result"
        }
      ],
      "source": [
        "p"
      ]
    },
    {
      "cell_type": "code",
      "execution_count": 84,
      "metadata": {},
      "outputs": [
        {
          "data": {
            "text/plain": [
              "tensor([[14.,  0.,  2.],\n",
              "        [12.,  8., 14.],\n",
              "        [12.,  0., 14.]])"
            ]
          },
          "execution_count": 84,
          "metadata": {},
          "output_type": "execute_result"
        }
      ],
      "source": [
        "q"
      ]
    },
    {
      "cell_type": "code",
      "execution_count": 87,
      "metadata": {},
      "outputs": [
        {
          "data": {
            "text/plain": [
              "tensor([[3., 8., 4.],\n",
              "        [1., 3., 7.],\n",
              "        [5., 7., 4.]])"
            ]
          },
          "execution_count": 87,
          "metadata": {},
          "output_type": "execute_result"
        }
      ],
      "source": [
        "torch.relu(p)"
      ]
    },
    {
      "cell_type": "code",
      "execution_count": 88,
      "metadata": {},
      "outputs": [
        {
          "data": {
            "text/plain": [
              "tensor([[3., 8., 4.],\n",
              "        [1., 3., 7.],\n",
              "        [5., 7., 4.]])"
            ]
          },
          "execution_count": 88,
          "metadata": {},
          "output_type": "execute_result"
        }
      ],
      "source": [
        "p.relu_()"
      ]
    },
    {
      "cell_type": "markdown",
      "metadata": {},
      "source": [
        "# Copying a Tensor "
      ]
    },
    {
      "cell_type": "code",
      "execution_count": 89,
      "metadata": {},
      "outputs": [
        {
          "data": {
            "text/plain": [
              "tensor([[0.5510, 0.2134, 0.9333],\n",
              "        [0.4908, 0.9402, 0.4733]])"
            ]
          },
          "execution_count": 89,
          "metadata": {},
          "output_type": "execute_result"
        }
      ],
      "source": [
        "r= torch.rand(2,3)\n",
        "r"
      ]
    },
    {
      "cell_type": "code",
      "execution_count": 95,
      "metadata": {},
      "outputs": [],
      "source": [
        "r=b"
      ]
    },
    {
      "cell_type": "code",
      "execution_count": 96,
      "metadata": {},
      "outputs": [
        {
          "data": {
            "text/plain": [
              "tensor([[0.4613, 0.9928, 0.9999],\n",
              "        [0.9710, 0.5870, 0.4635]])"
            ]
          },
          "execution_count": 96,
          "metadata": {},
          "output_type": "execute_result"
        }
      ],
      "source": [
        "b"
      ]
    },
    {
      "cell_type": "code",
      "execution_count": 97,
      "metadata": {},
      "outputs": [],
      "source": [
        "r[0][0]=0"
      ]
    },
    {
      "cell_type": "code",
      "execution_count": 98,
      "metadata": {},
      "outputs": [
        {
          "data": {
            "text/plain": [
              "tensor([[0.0000, 0.9928, 0.9999],\n",
              "        [0.9710, 0.5870, 0.4635]])"
            ]
          },
          "execution_count": 98,
          "metadata": {},
          "output_type": "execute_result"
        }
      ],
      "source": [
        "r"
      ]
    },
    {
      "cell_type": "code",
      "execution_count": 99,
      "metadata": {},
      "outputs": [
        {
          "data": {
            "text/plain": [
              "tensor([[0.0000, 0.9928, 0.9999],\n",
              "        [0.9710, 0.5870, 0.4635]])"
            ]
          },
          "execution_count": 99,
          "metadata": {},
          "output_type": "execute_result"
        }
      ],
      "source": [
        "b"
      ]
    },
    {
      "cell_type": "code",
      "execution_count": 100,
      "metadata": {},
      "outputs": [
        {
          "data": {
            "text/plain": [
              "5417386144"
            ]
          },
          "execution_count": 100,
          "metadata": {},
          "output_type": "execute_result"
        }
      ],
      "source": [
        "id(r)"
      ]
    },
    {
      "cell_type": "code",
      "execution_count": 101,
      "metadata": {},
      "outputs": [
        {
          "data": {
            "text/plain": [
              "5417386144"
            ]
          },
          "execution_count": 101,
          "metadata": {},
          "output_type": "execute_result"
        }
      ],
      "source": [
        "id(b)"
      ]
    },
    {
      "cell_type": "code",
      "execution_count": 102,
      "metadata": {},
      "outputs": [],
      "source": [
        "b=r.clone()"
      ]
    },
    {
      "cell_type": "code",
      "execution_count": 103,
      "metadata": {},
      "outputs": [
        {
          "data": {
            "text/plain": [
              "tensor([[0.0000, 0.9928, 0.9999],\n",
              "        [0.9710, 0.5870, 0.4635]])"
            ]
          },
          "execution_count": 103,
          "metadata": {},
          "output_type": "execute_result"
        }
      ],
      "source": [
        "r"
      ]
    },
    {
      "cell_type": "code",
      "execution_count": 104,
      "metadata": {},
      "outputs": [
        {
          "data": {
            "text/plain": [
              "tensor([[0.0000, 0.9928, 0.9999],\n",
              "        [0.9710, 0.5870, 0.4635]])"
            ]
          },
          "execution_count": 104,
          "metadata": {},
          "output_type": "execute_result"
        }
      ],
      "source": [
        "b"
      ]
    },
    {
      "cell_type": "markdown",
      "metadata": {},
      "source": [
        "# Tensor Operation on GPU"
      ]
    },
    {
      "cell_type": "code",
      "execution_count": 105,
      "metadata": {},
      "outputs": [
        {
          "data": {
            "text/plain": [
              "False"
            ]
          },
          "execution_count": 105,
          "metadata": {},
          "output_type": "execute_result"
        }
      ],
      "source": [
        "torch.cuda.is_available()"
      ]
    },
    {
      "cell_type": "code",
      "execution_count": 106,
      "metadata": {},
      "outputs": [],
      "source": [
        "device = torch.device('cuda')"
      ]
    },
    {
      "cell_type": "code",
      "execution_count": 108,
      "metadata": {},
      "outputs": [
        {
          "ename": "AssertionError",
          "evalue": "Torch not compiled with CUDA enabled",
          "output_type": "error",
          "traceback": [
            "\u001b[0;31m---------------------------------------------------------------------------\u001b[0m",
            "\u001b[0;31mAssertionError\u001b[0m                            Traceback (most recent call last)",
            "Cell \u001b[0;32mIn[108], line 1\u001b[0m\n\u001b[0;32m----> 1\u001b[0m torch\u001b[38;5;241m.\u001b[39mrand((\u001b[38;5;241m2\u001b[39m,\u001b[38;5;241m3\u001b[39m), device\u001b[38;5;241m=\u001b[39mdevice)\n",
            "File \u001b[0;32m~/anaconda3/lib/python3.11/site-packages/torch/cuda/__init__.py:239\u001b[0m, in \u001b[0;36m_lazy_init\u001b[0;34m()\u001b[0m\n\u001b[1;32m    235\u001b[0m     \u001b[38;5;28;01mraise\u001b[39;00m \u001b[38;5;167;01mRuntimeError\u001b[39;00m(\n\u001b[1;32m    236\u001b[0m         \u001b[38;5;124m\"\u001b[39m\u001b[38;5;124mCannot re-initialize CUDA in forked subprocess. To use CUDA with \u001b[39m\u001b[38;5;124m\"\u001b[39m\n\u001b[1;32m    237\u001b[0m         \u001b[38;5;124m\"\u001b[39m\u001b[38;5;124mmultiprocessing, you must use the \u001b[39m\u001b[38;5;124m'\u001b[39m\u001b[38;5;124mspawn\u001b[39m\u001b[38;5;124m'\u001b[39m\u001b[38;5;124m start method\u001b[39m\u001b[38;5;124m\"\u001b[39m)\n\u001b[1;32m    238\u001b[0m \u001b[38;5;28;01mif\u001b[39;00m \u001b[38;5;129;01mnot\u001b[39;00m \u001b[38;5;28mhasattr\u001b[39m(torch\u001b[38;5;241m.\u001b[39m_C, \u001b[38;5;124m'\u001b[39m\u001b[38;5;124m_cuda_getDeviceCount\u001b[39m\u001b[38;5;124m'\u001b[39m):\n\u001b[0;32m--> 239\u001b[0m     \u001b[38;5;28;01mraise\u001b[39;00m \u001b[38;5;167;01mAssertionError\u001b[39;00m(\u001b[38;5;124m\"\u001b[39m\u001b[38;5;124mTorch not compiled with CUDA enabled\u001b[39m\u001b[38;5;124m\"\u001b[39m)\n\u001b[1;32m    240\u001b[0m \u001b[38;5;28;01mif\u001b[39;00m _cudart \u001b[38;5;129;01mis\u001b[39;00m \u001b[38;5;28;01mNone\u001b[39;00m:\n\u001b[1;32m    241\u001b[0m     \u001b[38;5;28;01mraise\u001b[39;00m \u001b[38;5;167;01mAssertionError\u001b[39;00m(\n\u001b[1;32m    242\u001b[0m         \u001b[38;5;124m\"\u001b[39m\u001b[38;5;124mlibcudart functions unavailable. It looks like you have a broken build?\u001b[39m\u001b[38;5;124m\"\u001b[39m)\n",
            "\u001b[0;31mAssertionError\u001b[0m: Torch not compiled with CUDA enabled"
          ]
        }
      ],
      "source": [
        "torch.rand((2,3), device=device)"
      ]
    },
    {
      "cell_type": "code",
      "execution_count": 109,
      "metadata": {},
      "outputs": [
        {
          "data": {
            "text/plain": [
              "tensor([[0.8844, 0.6136, 0.3932],\n",
              "        [0.8161, 0.9615, 0.6150]])"
            ]
          },
          "execution_count": 109,
          "metadata": {},
          "output_type": "execute_result"
        }
      ],
      "source": [
        "a=torch.rand(2,3)\n",
        "a"
      ]
    },
    {
      "cell_type": "code",
      "execution_count": 110,
      "metadata": {},
      "outputs": [
        {
          "ename": "AssertionError",
          "evalue": "Torch not compiled with CUDA enabled",
          "output_type": "error",
          "traceback": [
            "\u001b[0;31m---------------------------------------------------------------------------\u001b[0m",
            "\u001b[0;31mAssertionError\u001b[0m                            Traceback (most recent call last)",
            "Cell \u001b[0;32mIn[110], line 1\u001b[0m\n\u001b[0;32m----> 1\u001b[0m a\u001b[38;5;241m.\u001b[39mto(device)\n",
            "File \u001b[0;32m~/anaconda3/lib/python3.11/site-packages/torch/cuda/__init__.py:239\u001b[0m, in \u001b[0;36m_lazy_init\u001b[0;34m()\u001b[0m\n\u001b[1;32m    235\u001b[0m     \u001b[38;5;28;01mraise\u001b[39;00m \u001b[38;5;167;01mRuntimeError\u001b[39;00m(\n\u001b[1;32m    236\u001b[0m         \u001b[38;5;124m\"\u001b[39m\u001b[38;5;124mCannot re-initialize CUDA in forked subprocess. To use CUDA with \u001b[39m\u001b[38;5;124m\"\u001b[39m\n\u001b[1;32m    237\u001b[0m         \u001b[38;5;124m\"\u001b[39m\u001b[38;5;124mmultiprocessing, you must use the \u001b[39m\u001b[38;5;124m'\u001b[39m\u001b[38;5;124mspawn\u001b[39m\u001b[38;5;124m'\u001b[39m\u001b[38;5;124m start method\u001b[39m\u001b[38;5;124m\"\u001b[39m)\n\u001b[1;32m    238\u001b[0m \u001b[38;5;28;01mif\u001b[39;00m \u001b[38;5;129;01mnot\u001b[39;00m \u001b[38;5;28mhasattr\u001b[39m(torch\u001b[38;5;241m.\u001b[39m_C, \u001b[38;5;124m'\u001b[39m\u001b[38;5;124m_cuda_getDeviceCount\u001b[39m\u001b[38;5;124m'\u001b[39m):\n\u001b[0;32m--> 239\u001b[0m     \u001b[38;5;28;01mraise\u001b[39;00m \u001b[38;5;167;01mAssertionError\u001b[39;00m(\u001b[38;5;124m\"\u001b[39m\u001b[38;5;124mTorch not compiled with CUDA enabled\u001b[39m\u001b[38;5;124m\"\u001b[39m)\n\u001b[1;32m    240\u001b[0m \u001b[38;5;28;01mif\u001b[39;00m _cudart \u001b[38;5;129;01mis\u001b[39;00m \u001b[38;5;28;01mNone\u001b[39;00m:\n\u001b[1;32m    241\u001b[0m     \u001b[38;5;28;01mraise\u001b[39;00m \u001b[38;5;167;01mAssertionError\u001b[39;00m(\n\u001b[1;32m    242\u001b[0m         \u001b[38;5;124m\"\u001b[39m\u001b[38;5;124mlibcudart functions unavailable. It looks like you have a broken build?\u001b[39m\u001b[38;5;124m\"\u001b[39m)\n",
            "\u001b[0;31mAssertionError\u001b[0m: Torch not compiled with CUDA enabled"
          ]
        }
      ],
      "source": [
        "a.to(device)"
      ]
    },
    {
      "cell_type": "code",
      "execution_count": 111,
      "metadata": {},
      "outputs": [
        {
          "data": {
            "text/plain": [
              "tensor([[0.8844, 1.6064, 1.3931],\n",
              "        [1.7871, 1.5485, 1.0785]])"
            ]
          },
          "execution_count": 111,
          "metadata": {},
          "output_type": "execute_result"
        }
      ],
      "source": [
        "b+a"
      ]
    },
    {
      "cell_type": "markdown",
      "metadata": {},
      "source": [
        "# Reshaping Tensor "
      ]
    },
    {
      "cell_type": "code",
      "execution_count": 119,
      "metadata": {},
      "outputs": [
        {
          "data": {
            "text/plain": [
              "tensor([[1., 1., 1., 1.],\n",
              "        [1., 1., 1., 1.],\n",
              "        [1., 1., 1., 1.],\n",
              "        [1., 1., 1., 1.]])"
            ]
          },
          "execution_count": 119,
          "metadata": {},
          "output_type": "execute_result"
        }
      ],
      "source": [
        "a=torch.ones(4,4)\n",
        "a"
      ]
    },
    {
      "cell_type": "code",
      "execution_count": 120,
      "metadata": {},
      "outputs": [
        {
          "data": {
            "text/plain": [
              "tensor([[[[1., 1.],\n",
              "          [1., 1.]],\n",
              "\n",
              "         [[1., 1.],\n",
              "          [1., 1.]]],\n",
              "\n",
              "\n",
              "        [[[1., 1.],\n",
              "          [1., 1.]],\n",
              "\n",
              "         [[1., 1.],\n",
              "          [1., 1.]]]])"
            ]
          },
          "execution_count": 120,
          "metadata": {},
          "output_type": "execute_result"
        }
      ],
      "source": [
        "# reshape \n",
        "a.reshape(2,2,2,2)"
      ]
    },
    {
      "cell_type": "code",
      "execution_count": 122,
      "metadata": {},
      "outputs": [
        {
          "data": {
            "text/plain": [
              "tensor([1., 1., 1., 1., 1., 1., 1., 1., 1., 1., 1., 1., 1., 1., 1., 1.])"
            ]
          },
          "execution_count": 122,
          "metadata": {},
          "output_type": "execute_result"
        }
      ],
      "source": [
        "# flatten\n",
        "a.flatten()"
      ]
    },
    {
      "cell_type": "code",
      "execution_count": 123,
      "metadata": {},
      "outputs": [
        {
          "data": {
            "text/plain": [
              "tensor([[[0.8697, 0.2886, 0.1609, 0.5470],\n",
              "         [0.2916, 0.3007, 0.9047, 0.5065],\n",
              "         [0.4475, 0.7316, 0.8078, 0.2540]],\n",
              "\n",
              "        [[0.4690, 0.2155, 0.9186, 0.4133],\n",
              "         [0.3272, 0.4185, 0.7512, 0.3196],\n",
              "         [0.0624, 0.5358, 0.1351, 0.4622]]])"
            ]
          },
          "execution_count": 123,
          "metadata": {},
          "output_type": "execute_result"
        }
      ],
      "source": [
        "b= torch.rand(2,3,4)\n",
        "b"
      ]
    },
    {
      "cell_type": "code",
      "execution_count": 124,
      "metadata": {},
      "outputs": [
        {
          "data": {
            "text/plain": [
              "tensor([[[0.8697, 0.2916, 0.4475],\n",
              "         [0.4690, 0.3272, 0.0624]],\n",
              "\n",
              "        [[0.2886, 0.3007, 0.7316],\n",
              "         [0.2155, 0.4185, 0.5358]],\n",
              "\n",
              "        [[0.1609, 0.9047, 0.8078],\n",
              "         [0.9186, 0.7512, 0.1351]],\n",
              "\n",
              "        [[0.5470, 0.5065, 0.2540],\n",
              "         [0.4133, 0.3196, 0.4622]]])"
            ]
          },
          "execution_count": 124,
          "metadata": {},
          "output_type": "execute_result"
        }
      ],
      "source": [
        "b.permute(2,0,1)"
      ]
    },
    {
      "cell_type": "code",
      "execution_count": 125,
      "metadata": {},
      "outputs": [
        {
          "data": {
            "text/plain": [
              "torch.Size([4, 3, 2])"
            ]
          },
          "execution_count": 125,
          "metadata": {},
          "output_type": "execute_result"
        }
      ],
      "source": [
        "b.permute(2,1,0).shape"
      ]
    },
    {
      "cell_type": "code",
      "execution_count": 131,
      "metadata": {},
      "outputs": [
        {
          "data": {
            "text/plain": [
              "torch.Size([1, 226, 226, 3])"
            ]
          },
          "execution_count": 131,
          "metadata": {},
          "output_type": "execute_result"
        }
      ],
      "source": [
        "#unsequeeze\n",
        "# image size\n",
        "c=torch.rand(226,226,3)\n",
        "c.unsqueeze(0).shape"
      ]
    },
    {
      "cell_type": "code",
      "execution_count": 132,
      "metadata": {},
      "outputs": [],
      "source": [
        "# squeeze\n",
        "d= torch.rand(1,20)"
      ]
    },
    {
      "cell_type": "code",
      "execution_count": 134,
      "metadata": {},
      "outputs": [
        {
          "data": {
            "text/plain": [
              "torch.Size([20])"
            ]
          },
          "execution_count": 134,
          "metadata": {},
          "output_type": "execute_result"
        }
      ],
      "source": [
        "d.squeeze(0).shape"
      ]
    },
    {
      "cell_type": "code",
      "execution_count": 147,
      "metadata": {},
      "outputs": [],
      "source": [
        "import numpy as np"
      ]
    },
    {
      "cell_type": "code",
      "execution_count": 144,
      "metadata": {},
      "outputs": [
        {
          "data": {
            "text/plain": [
              "tensor([1, 2, 3])"
            ]
          },
          "execution_count": 144,
          "metadata": {},
          "output_type": "execute_result"
        }
      ],
      "source": [
        "a=torch.tensor([1,2,3])\n",
        "a"
      ]
    },
    {
      "cell_type": "code",
      "execution_count": 138,
      "metadata": {},
      "outputs": [
        {
          "data": {
            "text/plain": [
              "array([1, 2, 3])"
            ]
          },
          "execution_count": 138,
          "metadata": {},
          "output_type": "execute_result"
        }
      ],
      "source": [
        "b=a.numpy()\n",
        "b"
      ]
    },
    {
      "cell_type": "code",
      "execution_count": 139,
      "metadata": {},
      "outputs": [
        {
          "data": {
            "text/plain": [
              "numpy.ndarray"
            ]
          },
          "execution_count": 139,
          "metadata": {},
          "output_type": "execute_result"
        }
      ],
      "source": [
        "type(b)"
      ]
    },
    {
      "cell_type": "code",
      "execution_count": 148,
      "metadata": {},
      "outputs": [
        {
          "data": {
            "text/plain": [
              "array([1, 2, 3])"
            ]
          },
          "execution_count": 148,
          "metadata": {},
          "output_type": "execute_result"
        }
      ],
      "source": [
        "c= np.array([1,2,3])\n",
        "c"
      ]
    },
    {
      "cell_type": "code",
      "execution_count": 149,
      "metadata": {},
      "outputs": [
        {
          "data": {
            "text/plain": [
              "tensor([1, 2, 3])"
            ]
          },
          "execution_count": 149,
          "metadata": {},
          "output_type": "execute_result"
        }
      ],
      "source": [
        "torch.from_numpy(c)"
      ]
    },
    {
      "cell_type": "code",
      "execution_count": null,
      "metadata": {},
      "outputs": [],
      "source": []
    }
  ],
  "metadata": {
    "colab": {
      "authorship_tag": "ABX9TyNAe3ZNYLm94BxqkQL7RYOq",
      "include_colab_link": true,
      "provenance": []
    },
    "kernelspec": {
      "display_name": "base",
      "language": "python",
      "name": "python3"
    },
    "language_info": {
      "codemirror_mode": {
        "name": "ipython",
        "version": 3
      },
      "file_extension": ".py",
      "mimetype": "text/x-python",
      "name": "python",
      "nbconvert_exporter": "python",
      "pygments_lexer": "ipython3",
      "version": "3.11.4"
    }
  },
  "nbformat": 4,
  "nbformat_minor": 0
}
